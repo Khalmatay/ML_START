{
 "cells": [
  {
   "cell_type": "markdown",
   "source": [],
   "metadata": {
    "collapsed": false
   },
   "id": "5b323ab46c1f7571"
  },
  {
   "cell_type": "code",
   "execution_count": null,
   "outputs": [],
   "source": [
    "ФУНКЦИИ. ССЫЛОЧНАЯ МОДЕЛЬ ДАННЫХ. ПОГРУЖЕНИЕ В ТИПЫ. ИЗМЕНЯЕМЫЕ ТИПЫ, СРЕЗЫ, РАБОТА СО СТРОКАМИ"
   ],
   "metadata": {
    "collapsed": false
   },
   "id": "9fc8367a6094cb7d"
  },
  {
   "cell_type": "markdown",
   "source": [
    "> Функции\n",
    "Напишите функцию zip_, которая принимает на вход два списка и «сшивает» их следующим образом, например:\n",
    "\n",
    "Списки [1, 5, 3, 8, 35] и [2, 7, 9] превратятся в [(1, 2), (5, 7), (3, 9)], т. е. сначала берутся первые элементы первого и второго списков и собираются в кортеж, затем вторые элементы первого и второго списков и собираются в кортеж и т. д., пока не дошли до конца самого короткого списка. \n",
    "\n",
    "На выходе функция должна возвращать (return) «сшитый» список. Вам понадобится использовать цикл.\n",
    "\n",
    "NB! Ниже на странице можно найти материал со звездочкой."
   ],
   "metadata": {
    "collapsed": false
   },
   "id": "6c7161209b191d7f"
  },
  {
   "cell_type": "code",
   "execution_count": null,
   "outputs": [],
   "source": [
    "array1 = [1, 5, 3, 8, 35]\n",
    "array2 = [2, 7, 9]\n",
    "def zip_(array1, array2):\n",
    "    k = []\n",
    "    if len(array1) >= len(array2):\n",
    "        for i in range(0, len(array2)):\n",
    "            t = tuple([array1[i]] + [array2[i]])\n",
    "            k.append(t)\n",
    "    else:\n",
    "        for i in range(0, len(array1)):\n",
    "            t = tuple([array1[i]] + [array2[i]])\n",
    "            k.append(t)\n",
    "    return k\n"
   ],
   "metadata": {
    "collapsed": false
   },
   "id": "f54051ac4e63ba2a"
  },
  {
   "cell_type": "markdown",
   "source": [],
   "metadata": {
    "collapsed": false
   },
   "id": "db1b21014974ce84"
  },
  {
   "cell_type": "code",
   "execution_count": null,
   "outputs": [],
   "source": [
    "Вспомните пример с подсчетом банковского процента из урока 1. Напишите функцию final_balance, которая на вход принимает начальную сумму init_sum, процентную ставку interest_rate, количество лет years и округление round_num. Функция должна возвращать сумму по истечении этого срока.\n",
    "\n",
    "Аргумент функции round_num должен задавать, сколько значащих чисел после запятой оставлять. Так, при round_num = 2 сумма будет выводиться с точностью до копеек, при round_num = 0 - с точностью до рублей. При этом round_num может быть отрицательным! В таком случае округление будет грубее: round_num = -1 будет округлять до десятков рублей, round_num = -2 до сотен и т. д.\n",
    "\n",
    "Поставьте значение по умолчанию round_num, равное 2. Это соответствует округлению до копеек.\n",
    "\n",
    "Вам может пригодиться встроенная в Python функция round() и примеры ее использования:"
   ],
   "metadata": {
    "collapsed": false
   },
   "id": "7cf7d3c0a6a26f9c"
  },
  {
   "cell_type": "code",
   "execution_count": null,
   "outputs": [],
   "source": [
    "def final_balance(init_sum, interest_rate, years, round_num = 2):\n",
    "    end_sum = init_sum * ((100 + interest_rate) / 100 ) ** years\n",
    "    return round(end_sum, round_num)\n"
   ],
   "metadata": {
    "collapsed": false
   },
   "id": "3dbc7771170b14c1"
  },
  {
   "cell_type": "code",
   "execution_count": 9,
   "outputs": [],
   "source": [
    "def math_task(data):\n",
    "    data_1 = data\n",
    "    print(data_1)\n",
    "    answer = []\n",
    "    # возводим в третью степень\n",
    "    for elem in data:\n",
    "        answer += [elem * 3]\n",
    "    print(\"###\")\n",
    "    print(answer)\n",
    "    print(\"###\")\n",
    "    # берем остаток от деления на 7\n",
    "    for i in range(len(answer)):\n",
    "        answer[i] = answer[i] % 7\n",
    "    print(\"###\")\n",
    "    print(answer)\n",
    "    print(\"###\")\n",
    "    # прибавляем к остатку изначальный массив\n",
    "    for i in range(len(answer)):\n",
    "        answer[i] = answer[i] + data_1[i]\n",
    "    print(\"###\")\n",
    "    print(answer)\n",
    "    print(\"###\")\n",
    "    # возвращаем результат\n",
    "    return answer"
   ],
   "metadata": {
    "collapsed": false,
    "ExecuteTime": {
     "end_time": "2023-10-29T14:41:07.756096700Z",
     "start_time": "2023-10-29T14:41:07.734452100Z"
    }
   },
   "id": "c4da9d9d3a795a4e"
  },
  {
   "cell_type": "markdown",
   "source": [
    "task 5\n",
    "Уменьшаем дублирование кода\n",
    "Попробуем использовать функцию для сокращения количества кода. Для этого смоделируем ситуацию из практики.\n",
    "\n",
    "Ваш коллега придумал свой способ «генерации» данных. Для этого он предложил брать набор чисел, возводить их в куб, потом брать остаток от деления на 7, прибавлять к этому изначальный массив — и выдавать результат как «сгенерированные» данные.\n",
    "\n",
    "Например:\n",
    "\n",
    "[1,2,3,4] -  изначальный массив\n",
    "[1,8,27,64] - возвели все элементы в куб\n",
    "[1,1,6,1] - оставили остатки при делении на 7\n",
    "[2,3,9,5] - прибавили изначальный массив (1) к массиву (3)\n",
    "Коллега был очень увлечен этой идеей и написал алгоритм, но он работает неправильно — коллега подсчитал на бумаге ожидаемый результат, и он не совпал с выводом программы.\n",
    "\n",
    "Коллега предлагает распечатать массив на каждом этапе, чтобы понять, где же ошибка. Увы, на сервере, где вы выполняете код, очень много чего печатается. Чтобы выделить именно ваш вывод и не запутаться, коллега предлагает печатать решетки вокруг. У коллеги уже есть код для печати массива:\n",
    "\n",
    "print(\"###\")\n",
    "print(array)\n",
    "print(\"###\")\n",
    "\n",
    "\n",
    "Он просит вас встроить этот код везде, где изменяется переменная answer, и печатать answer таким образом.\n",
    "\n",
    "Код коллеги дан ниже. Распечатайте answer после каждого цикла и попробуйте найти ошибки в коде. Отправьте в LMS исправленную версию функции math_task  и её вызов с данными test_data.  В вашей функции должна происходить печать answer после каждого цикла.\n",
    "\n",
    "NB! Не забудьте вызвать функцию math_task в конце. Обратите внимание, что данные test_data уже зашиты в чекер, не нужно определять их самостоятельно."
   ],
   "metadata": {
    "collapsed": false
   },
   "id": "7002710fe0d2333a"
  },
  {
   "cell_type": "code",
   "execution_count": null,
   "outputs": [],
   "source": [
    "# много другого кода, который тоже печатает\n",
    "# ...\n",
    "# Код коллеги\n",
    "\n",
    "def math_task(data):\n",
    "    answer = []\n",
    "    # возводим в третью степень\n",
    "    for elem in data:\n",
    "        answer += [elem ** 3]\n",
    "    print(\"###\")\n",
    "    print(answer)\n",
    "    print(\"###\")\n",
    "    # берем остаток от деления на 7\n",
    "    for i in range(len(answer)):\n",
    "        answer[i] = answer[i] % 7\n",
    "    print(\"###\")\n",
    "    print(answer)\n",
    "    print(\"###\")\n",
    "    # прибавляем к остатку изначальный массив\n",
    "    for i in range(len(answer)):\n",
    "        answer[i] = answer[i] + data[i]\n",
    "    print(\"###\")\n",
    "    print(answer)\n",
    "    print(\"###\")\n",
    "    # возвращаем результат\n",
    "    return answer\n",
    "\n",
    "math_task(test_data)\n",
    "#print(math_task([1, 4, 5, 9])) # пример для самопроверки\n",
    "    "
   ],
   "metadata": {
    "collapsed": false
   },
   "id": "5a09debab846cf84"
  },
  {
   "cell_type": "code",
   "execution_count": 28,
   "outputs": [],
   "source": [
    "def sum_as_ints (array):\n",
    "    k = []\n",
    "    for i in range(len(array)):\n",
    "        try:\n",
    "           k.append(int(array[i]))\n",
    "        except ValueError:\n",
    "            continue\n",
    "    return k\n"
   ],
   "metadata": {
    "collapsed": false,
    "ExecuteTime": {
     "end_time": "2023-10-29T15:11:46.686347500Z",
     "start_time": "2023-10-29T15:11:46.670950300Z"
    }
   },
   "id": "b082e220764f3c75"
  },
  {
   "cell_type": "code",
   "execution_count": 29,
   "outputs": [
    {
     "ename": "TypeError",
     "evalue": "int() argument must be a string, a bytes-like object or a real number, not 'list'",
     "output_type": "error",
     "traceback": [
      "\u001B[1;31m---------------------------------------------------------------------------\u001B[0m",
      "\u001B[1;31mTypeError\u001B[0m                                 Traceback (most recent call last)",
      "Cell \u001B[1;32mIn[29], line 1\u001B[0m\n\u001B[1;32m----> 1\u001B[0m \u001B[43msum_as_ints\u001B[49m\u001B[43m \u001B[49m\u001B[43m(\u001B[49m\u001B[43m[\u001B[49m\u001B[38;5;241;43m1\u001B[39;49m\u001B[43m,\u001B[49m\u001B[43m \u001B[49m\u001B[38;5;241;43m2\u001B[39;49m\u001B[43m,\u001B[49m\u001B[43m \u001B[49m\u001B[38;5;124;43m\"\u001B[39;49m\u001B[38;5;124;43mhi\u001B[39;49m\u001B[38;5;124;43m\"\u001B[39;49m\u001B[43m,\u001B[49m\u001B[43m \u001B[49m\u001B[43m[\u001B[49m\u001B[38;5;241;43m1\u001B[39;49m\u001B[43m,\u001B[49m\u001B[38;5;124;43m\"\u001B[39;49m\u001B[38;5;124;43m22\u001B[39;49m\u001B[38;5;124;43m\"\u001B[39;49m\u001B[43m]\u001B[49m\u001B[43m]\u001B[49m\u001B[43m)\u001B[49m\n",
      "Cell \u001B[1;32mIn[28], line 5\u001B[0m, in \u001B[0;36msum_as_ints\u001B[1;34m(array)\u001B[0m\n\u001B[0;32m      3\u001B[0m \u001B[38;5;28;01mfor\u001B[39;00m i \u001B[38;5;129;01min\u001B[39;00m \u001B[38;5;28mrange\u001B[39m(\u001B[38;5;28mlen\u001B[39m(array)):\n\u001B[0;32m      4\u001B[0m     \u001B[38;5;28;01mtry\u001B[39;00m:\n\u001B[1;32m----> 5\u001B[0m        k\u001B[38;5;241m.\u001B[39mappend(\u001B[38;5;28;43mint\u001B[39;49m\u001B[43m(\u001B[49m\u001B[43marray\u001B[49m\u001B[43m[\u001B[49m\u001B[43mi\u001B[49m\u001B[43m]\u001B[49m\u001B[43m)\u001B[49m)\n\u001B[0;32m      6\u001B[0m     \u001B[38;5;28;01mexcept\u001B[39;00m \u001B[38;5;167;01mValueError\u001B[39;00m:\n\u001B[0;32m      7\u001B[0m         \u001B[38;5;28;01mcontinue\u001B[39;00m\n",
      "\u001B[1;31mTypeError\u001B[0m: int() argument must be a string, a bytes-like object or a real number, not 'list'"
     ]
    }
   ],
   "source": [
    "sum_as_ints ([1, 2, \"hi\", [1,\"22\"]])"
   ],
   "metadata": {
    "collapsed": false,
    "ExecuteTime": {
     "end_time": "2023-10-29T15:11:47.029164600Z",
     "start_time": "2023-10-29T15:11:46.989472Z"
    }
   },
   "id": "eadc8136c84f1114"
  },
  {
   "cell_type": "code",
   "execution_count": 30,
   "outputs": [],
   "source": [
    "def reversed_(array):\n",
    "    rv = []\n",
    "    while array:\n",
    "        rv.append(array.pop())\n",
    "    return rv"
   ],
   "metadata": {
    "collapsed": false,
    "ExecuteTime": {
     "end_time": "2023-10-29T15:45:02.005168100Z",
     "start_time": "2023-10-29T15:45:01.980965300Z"
    }
   },
   "id": "338557b4c3397f87"
  },
  {
   "cell_type": "code",
   "execution_count": 31,
   "outputs": [
    {
     "name": "stdout",
     "output_type": "stream",
     "text": [
      "Все хорошо\n"
     ]
    }
   ],
   "source": [
    "if reversed_(reversed_([1, 2, 3])) == [1, 2, 3]:\n",
    "    print(\"Все хорошо\")\n",
    "else:\n",
    "    raise RuntimeError(\"Ошибка, после обращения дважды не получается исходный массив!\")"
   ],
   "metadata": {
    "collapsed": false,
    "ExecuteTime": {
     "end_time": "2023-10-29T15:45:10.759525200Z",
     "start_time": "2023-10-29T15:45:10.621376200Z"
    }
   },
   "id": "d2228efd35c56bd0"
  },
  {
   "cell_type": "code",
   "execution_count": 32,
   "outputs": [
    {
     "ename": "RuntimeError",
     "evalue": "Ошибка, после обращения дважды не получается исходный массив!",
     "output_type": "error",
     "traceback": [
      "\u001B[1;31m---------------------------------------------------------------------------\u001B[0m",
      "\u001B[1;31mRuntimeError\u001B[0m                              Traceback (most recent call last)",
      "Cell \u001B[1;32mIn[32], line 5\u001B[0m\n\u001B[0;32m      3\u001B[0m     \u001B[38;5;28mprint\u001B[39m(\u001B[38;5;124m\"\u001B[39m\u001B[38;5;124mВсе хорошо\u001B[39m\u001B[38;5;124m\"\u001B[39m)\n\u001B[0;32m      4\u001B[0m \u001B[38;5;28;01melse\u001B[39;00m:\n\u001B[1;32m----> 5\u001B[0m     \u001B[38;5;28;01mraise\u001B[39;00m \u001B[38;5;167;01mRuntimeError\u001B[39;00m(\u001B[38;5;124m\"\u001B[39m\u001B[38;5;124mОшибка, после обращения дважды не получается исходный массив!\u001B[39m\u001B[38;5;124m\"\u001B[39m)\n",
      "\u001B[1;31mRuntimeError\u001B[0m: Ошибка, после обращения дважды не получается исходный массив!"
     ]
    }
   ],
   "source": [
    "arr = [1, 2, 3]\n",
    "if reversed_(reversed_(arr)) == arr:\n",
    "    print(\"Все хорошо\")\n",
    "else:\n",
    "    raise RuntimeError(\"Ошибка, после обращения дважды не получается исходный массив!\")"
   ],
   "metadata": {
    "collapsed": false,
    "ExecuteTime": {
     "end_time": "2023-10-29T15:45:17.664334800Z",
     "start_time": "2023-10-29T15:45:17.588610700Z"
    }
   },
   "id": "dcb1110cf7a8038d"
  },
  {
   "cell_type": "code",
   "execution_count": 52,
   "outputs": [],
   "source": [
    "def check_string(string):\n",
    "    if string == string.strip() and string[0].isupper() and string[1:].islower() and string[-1] == \".\":\n",
    "        return True\n",
    "    return False\n"
   ],
   "metadata": {
    "collapsed": false,
    "ExecuteTime": {
     "end_time": "2023-10-29T16:24:59.535005900Z",
     "start_time": "2023-10-29T16:24:59.514018700Z"
    }
   },
   "id": "9ba222fd69339926"
  },
  {
   "cell_type": "code",
   "execution_count": 53,
   "outputs": [
    {
     "data": {
      "text/plain": "True"
     },
     "execution_count": 53,
     "metadata": {},
     "output_type": "execute_result"
    }
   ],
   "source": [
    "check_string('В этом году будет особенно теплое море.')"
   ],
   "metadata": {
    "collapsed": false,
    "ExecuteTime": {
     "end_time": "2023-10-29T16:25:00.001189700Z",
     "start_time": "2023-10-29T16:24:59.976196100Z"
    }
   },
   "id": "f5518ce5d238e882"
  }
 ],
 "metadata": {
  "kernelspec": {
   "display_name": "Python 3",
   "language": "python",
   "name": "python3"
  },
  "language_info": {
   "codemirror_mode": {
    "name": "ipython",
    "version": 2
   },
   "file_extension": ".py",
   "mimetype": "text/x-python",
   "name": "python",
   "nbconvert_exporter": "python",
   "pygments_lexer": "ipython2",
   "version": "2.7.6"
  }
 },
 "nbformat": 4,
 "nbformat_minor": 5
}
