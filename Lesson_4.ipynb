{
 "cells": [
  {
   "cell_type": "markdown",
   "source": [
    "**Это полужирный текст**\n",
    "\n",
    "*Это текст курсивом*\n",
    "\n",
    "`Это monospace текст`\n"
   ],
   "metadata": {
    "collapsed": false
   },
   "id": "ba97162332ec5194"
  },
  {
   "cell_type": "markdown",
   "source": [],
   "metadata": {
    "collapsed": false
   },
   "id": "784dd9d735d787db"
  },
  {
   "cell_type": "code",
   "execution_count": null,
   "outputs": [],
   "source": [],
   "metadata": {
    "collapsed": false,
    "ExecuteTime": {
     "end_time": "2023-11-08T09:50:02.191841400Z",
     "start_time": "2023-11-08T09:50:02.178251300Z"
    }
   },
   "id": "b3b2b71181ed513d"
  },
  {
   "cell_type": "code",
   "execution_count": null,
   "outputs": [],
   "source": [],
   "metadata": {
    "collapsed": false,
    "ExecuteTime": {
     "end_time": "2023-11-08T09:50:02.206090100Z",
     "start_time": "2023-11-08T09:50:02.192999700Z"
    }
   },
   "id": "f829824ef6767b58"
  },
  {
   "cell_type": "code",
   "execution_count": null,
   "outputs": [],
   "source": [],
   "metadata": {
    "collapsed": false
   },
   "id": "1597d6861c33cf0b"
  }
 ],
 "metadata": {
  "kernelspec": {
   "display_name": "Python 3",
   "language": "python",
   "name": "python3"
  },
  "language_info": {
   "codemirror_mode": {
    "name": "ipython",
    "version": 2
   },
   "file_extension": ".py",
   "mimetype": "text/x-python",
   "name": "python",
   "nbconvert_exporter": "python",
   "pygments_lexer": "ipython2",
   "version": "2.7.6"
  }
 },
 "nbformat": 4,
 "nbformat_minor": 5
}
