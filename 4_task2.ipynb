{
 "cells": [
  {
   "cell_type": "markdown",
   "id": "f8a7a435",
   "metadata": {},
   "source": [
    "# Идемпотентность: что такое и зачем"
   ]
  },
  {
   "cell_type": "code",
   "execution_count": 1,
   "id": "ce7946b6",
   "metadata": {
    "ExecuteTime": {
     "end_time": "2023-11-08T10:02:17.221635500Z",
     "start_time": "2023-11-08T10:02:17.201649300Z"
    }
   },
   "outputs": [],
   "source": [
    "credit_payments = []"
   ]
  },
  {
   "cell_type": "markdown",
   "id": "716f4878",
   "metadata": {},
   "source": [
    "Идемпотентность - это свойство операции, когда при ее повторении результат операции получается такой же.\n",
    "\n",
    "Для Jupyter Notebook это весьма полезное свойство: если вы сделаете так, что при перезапуске ячейки результат будет такой же, то разработка станет проще. Сейчас мы на практике увидим, как это происходит :)\n",
    "\n",
    "В Jupyter Notebook может быть много ячеек и часто легко забыть, когда и где были проинициализированы переменные. Если в ячейках отсутствует _идемпотентность_, то результат будет непредсказуемым."
   ]
  },
  {
   "cell_type": "code",
   "execution_count": 2,
   "id": "5fde8f48",
   "metadata": {
    "ExecuteTime": {
     "end_time": "2023-11-08T10:02:18.495407800Z",
     "start_time": "2023-11-08T10:02:17.229641300Z"
    }
   },
   "outputs": [
    {
     "name": "stdout",
     "output_type": "stream",
     "text": [
      "num_records    5\n",
      "value          7\n",
      "total          9\n",
      "dtype: int64\n",
      "num_records\n",
      "1    1\n",
      "4    1\n",
      "Name: count, dtype: int64\n"
     ]
    },
    {
     "data": {
      "text/plain": "   num_records  value  total\n0            1      2      3\n1            4      5      6",
      "text/html": "<div>\n<style scoped>\n    .dataframe tbody tr th:only-of-type {\n        vertical-align: middle;\n    }\n\n    .dataframe tbody tr th {\n        vertical-align: top;\n    }\n\n    .dataframe thead th {\n        text-align: right;\n    }\n</style>\n<table border=\"1\" class=\"dataframe\">\n  <thead>\n    <tr style=\"text-align: right;\">\n      <th></th>\n      <th>num_records</th>\n      <th>value</th>\n      <th>total</th>\n    </tr>\n  </thead>\n  <tbody>\n    <tr>\n      <th>0</th>\n      <td>1</td>\n      <td>2</td>\n      <td>3</td>\n    </tr>\n    <tr>\n      <th>1</th>\n      <td>4</td>\n      <td>5</td>\n      <td>6</td>\n    </tr>\n  </tbody>\n</table>\n</div>"
     },
     "execution_count": 2,
     "metadata": {},
     "output_type": "execute_result"
    }
   ],
   "source": [
    "# OLD experiment. todo: remove it\n",
    "import pandas as pd\n",
    "\n",
    "\n",
    "df = pd.DataFrame(\n",
    "    [[1, 2, 3],\n",
    "    [4, 5, 6]],\n",
    "    columns=['num_records', 'value', 'total']\n",
    ")\n",
    "print(df.sum())\n",
    "\n",
    "print(df['num_records'].value_counts())\n",
    "\n",
    "df.head()"
   ]
  },
  {
   "cell_type": "code",
   "execution_count": 1,
   "id": "91b8457a",
   "metadata": {
    "ExecuteTime": {
     "end_time": "2023-11-08T10:03:13.491337200Z",
     "start_time": "2023-11-08T10:03:12.214155300Z"
    }
   },
   "outputs": [
    {
     "ename": "NameError",
     "evalue": "name 'credit_payments' is not defined",
     "output_type": "error",
     "traceback": [
      "\u001B[1;31m---------------------------------------------------------------------------\u001B[0m",
      "\u001B[1;31mNameError\u001B[0m                                 Traceback (most recent call last)",
      "Cell \u001B[1;32mIn[1], line 5\u001B[0m\n\u001B[0;32m      3\u001B[0m start \u001B[38;5;241m=\u001B[39m time\u001B[38;5;241m.\u001B[39mtime()\n\u001B[0;32m      4\u001B[0m \u001B[38;5;28;01mfor\u001B[39;00m i \u001B[38;5;129;01min\u001B[39;00m \u001B[38;5;28mrange\u001B[39m(\u001B[38;5;28mint\u001B[39m(\u001B[38;5;241m1e5\u001B[39m)):\n\u001B[1;32m----> 5\u001B[0m     \u001B[43mcredit_payments\u001B[49m\u001B[38;5;241m.\u001B[39mappend((i \u001B[38;5;241m%\u001B[39m \u001B[38;5;241m7\u001B[39m \u001B[38;5;241m+\u001B[39m i \u001B[38;5;241m/\u001B[39m\u001B[38;5;241m/\u001B[39m \u001B[38;5;241m3\u001B[39m) \u001B[38;5;241m/\u001B[39m \u001B[38;5;241m1e6\u001B[39m)\n\u001B[0;32m      7\u001B[0m end \u001B[38;5;241m=\u001B[39m time\u001B[38;5;241m.\u001B[39mtime()\n\u001B[0;32m      8\u001B[0m \u001B[38;5;28mprint\u001B[39m(end \u001B[38;5;241m-\u001B[39m start)\n",
      "\u001B[1;31mNameError\u001B[0m: name 'credit_payments' is not defined"
     ]
    }
   ],
   "source": [
    "import time\n",
    "\n",
    "start = time.time()\n",
    "for i in range(int(1e5)):\n",
    "    credit_payments.append((i % 7 + i // 3) / 1e6)\n",
    "\n",
    "end = time.time()\n",
    "print(end - start)\n",
    "print(sum(credit_payments))"
   ]
  },
  {
   "cell_type": "code",
   "execution_count": 5,
   "outputs": [],
   "source": [],
   "metadata": {
    "collapsed": false,
    "ExecuteTime": {
     "end_time": "2023-11-08T10:02:41.336612Z",
     "start_time": "2023-11-08T10:02:41.320839700Z"
    }
   },
   "id": "301d5b6f51b17823"
  },
  {
   "cell_type": "code",
   "execution_count": null,
   "outputs": [],
   "source": [],
   "metadata": {
    "collapsed": false
   },
   "id": "7eca4957d1290978"
  }
 ],
 "metadata": {
  "kernelspec": {
   "display_name": "Python 3 (ipykernel)",
   "language": "python",
   "name": "python3"
  },
  "language_info": {
   "codemirror_mode": {
    "name": "ipython",
    "version": 3
   },
   "file_extension": ".py",
   "mimetype": "text/x-python",
   "name": "python",
   "nbconvert_exporter": "python",
   "pygments_lexer": "ipython3",
   "version": "3.9.7"
  },
  "toc": {
   "base_numbering": 1,
   "nav_menu": {},
   "number_sections": true,
   "sideBar": true,
   "skip_h1_title": false,
   "title_cell": "Table of Contents",
   "title_sidebar": "Contents",
   "toc_cell": false,
   "toc_position": {},
   "toc_section_display": true,
   "toc_window_display": false
  },
  "varInspector": {
   "cols": {
    "lenName": 16,
    "lenType": 16,
    "lenVar": 40
   },
   "kernels_config": {
    "python": {
     "delete_cmd_postfix": "",
     "delete_cmd_prefix": "del ",
     "library": "var_list.py",
     "varRefreshCmd": "print(var_dic_list())"
    },
    "r": {
     "delete_cmd_postfix": ") ",
     "delete_cmd_prefix": "rm(",
     "library": "var_list.r",
     "varRefreshCmd": "cat(var_dic_list()) "
    }
   },
   "types_to_exclude": [
    "module",
    "function",
    "builtin_function_or_method",
    "instance",
    "_Feature"
   ],
   "window_display": false
  }
 },
 "nbformat": 4,
 "nbformat_minor": 5
}
